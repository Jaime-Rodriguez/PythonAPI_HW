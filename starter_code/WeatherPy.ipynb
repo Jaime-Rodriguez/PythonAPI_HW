{
 "cells": [
  {
   "cell_type": "markdown",
   "metadata": {},
   "source": [
    "# WeatherPy\n",
    "----\n",
    "\n",
    "### Analysis\n",
    "* As expected, the weather becomes significantly warmer as one approaches the equator (0 Deg. Latitude). More interestingly, however, is the fact that the southern hemisphere tends to be warmer this time of year than the northern hemisphere. This may be due to the tilt of the earth.\n",
    "* There is no strong relationship between latitude and cloudiness. However, it is interesting to see that a strong band of cities sits at 0, 80, and 100% cloudiness.\n",
    "* There is no strong relationship between latitude and wind speed. However, in northern hemispheres there is a flurry of cities with over 20 mph of wind.\n",
    "\n",
    "---\n",
    "\n",
    "#### Note\n",
    "* Instructions have been included for each segment. You do not have to follow them exactly, but they are included to help you think through the steps."
   ]
  },
  {
   "cell_type": "code",
   "execution_count": 151,
   "metadata": {
    "scrolled": true
   },
   "outputs": [],
   "source": [
    "# Dependencies and Setup\n",
    "import matplotlib.pyplot as plt\n",
    "import pandas as pd\n",
    "import numpy as np\n",
    "import requests\n",
    "import time\n",
    "import openweathermapy.core as owm\n",
    "import urllib, json\n",
    "\n",
    "# Import API key\n",
    "from api_keys import api_key\n",
    "g_key = \"\"\n",
    "\n",
    "\n",
    "# Incorporated citipy to determine city based on latitude and longitude\n",
    "from citipy import citipy\n",
    "\n",
    "# Output File (CSV)\n",
    "output_data_file = \"output_data/cities.csv\"\n",
    "\n",
    "# Range of latitudes and longitudes\n",
    "lat_range = (-90, 90)\n",
    "lng_range = (-180, 180)"
   ]
  },
  {
   "cell_type": "markdown",
   "metadata": {},
   "source": [
    "## Generate Cities List"
   ]
  },
  {
   "cell_type": "code",
   "execution_count": 183,
   "metadata": {},
   "outputs": [],
   "source": [
    "# List for holding lat_lngs and cities\n",
    "lat_lngs = []\n",
    "cities = []\n",
    "\n",
    "# Create a set of random lat and lng combinations\n",
    "lats = np.random.uniform(low=-90.000, high=90.000, size=15)\n",
    "lngs = np.random.uniform(low=-180.000, high=180.000, size=15)\n",
    "lat_lngs = zip(lats, lngs)\n",
    "\n",
    "# Identify nearest city for each lat, lng combination\n",
    "for lat_lng in lat_lngs:\n",
    "    city = citipy.nearest_city(lat_lng[0], lat_lng[1]).city_name\n",
    "    \n",
    "    # If the city is unique, then add it to a our cities list\n",
    "    if city not in cities:\n",
    "        cities.append(city)\n",
    "\n",
    "# Print the city count to confirm sufficient count\n",
    "city_df = pd.DataFrame(cities,columns=['Cities'])\n"
   ]
  },
  {
   "cell_type": "markdown",
   "metadata": {},
   "source": [
    "### Perform API Calls\n",
    "* Perform a weather check on each city using a series of successive API calls.\n",
    "* Include a print log of each city as it'sbeing processed (with the city number and city name).\n"
   ]
  },
  {
   "cell_type": "code",
   "execution_count": 122,
   "metadata": {},
   "outputs": [
    {
     "data": {
      "text/plain": [
       "1562198034"
      ]
     },
     "execution_count": 122,
     "metadata": {},
     "output_type": "execute_result"
    }
   ],
   "source": [
    "# Create settings dictionary with information we're interested in\n",
    "settings = {\"units\": \"metric\", \"appid\": api_key}\n",
    "test = owm.get_current('San Francisco', **settings)\n",
    "test['dt']\n"
   ]
  },
  {
   "cell_type": "code",
   "execution_count": 184,
   "metadata": {},
   "outputs": [
    {
     "name": "stdout",
     "output_type": "stream",
     "text": [
      "-----------\n",
      "100.22\n",
      "tura\n",
      "-----------\n",
      "147.33\n",
      "hobart\n",
      "-----------\n",
      "-96.99\n",
      "husavik\n",
      "-----------\n",
      "-73.75\n",
      "albany\n",
      "-----------\n",
      "115.35\n",
      "busselton\n",
      "-----------\n",
      "-----------\n",
      "-73.48\n",
      "saint-philippe\n",
      "-----------\n",
      "-68.31\n",
      "ushuaia\n",
      "-----------\n",
      "-73.25\n",
      "iquitos\n",
      "-----------\n",
      "-90.35\n",
      "puerto ayora\n",
      "-----------\n",
      "46.75\n",
      "alikovo\n",
      "-----------\n",
      "83.65\n",
      "kurchum\n",
      "-----------\n",
      "24.73\n",
      "kruisfontein\n",
      "-----------\n",
      "-8.78\n",
      "gondar\n",
      "-----------\n"
     ]
    }
   ],
   "source": [
    "lon = []\n",
    "lat = []\n",
    "hum = []\n",
    "maxtemp = []\n",
    "clouds = []\n",
    "wind = []\n",
    "new_city = []\n",
    "dt = []\n",
    "for index, row in city_df.iterrows():\n",
    "\n",
    "\n",
    "\n",
    "    try:    \n",
    "        # get restaurant type from df\n",
    "        city = row['Cities']\n",
    "        settings = {\"units\": \"metric\", \"appid\": api_key}\n",
    "        json_df = owm.get_current(city, **settings)\n",
    "        \n",
    "        # Append corresponding values to their respective lists\n",
    "        new_city.append(row['Cities'])\n",
    "        lon.append(json_df['coord']['lon'])\n",
    "        lat.append(json_df['coord']['lat'])\n",
    "        hum.append(json_df['main']['humidity'])\n",
    "        maxtemp.append(json_df['main']['temp_max'])\n",
    "        clouds.append(json_df['clouds']['all'])\n",
    "        wind.append(json_df['wind']['speed'])\n",
    "        dt.append(json_df['dt'])\n",
    "        print(json_df['coord']['lon'])\n",
    "        print(city)\n",
    "        time.sleep(1)     \n",
    "\n",
    "    # For any errors (specifically the 404 Error) move on to the next record    \n",
    "    except:\n",
    "        next\n",
    "    print(\"-----------\")\n",
    "         \n",
    "         "
   ]
  },
  {
   "cell_type": "markdown",
   "metadata": {},
   "source": [
    "### Convert Raw Data to DataFrame\n",
    "* Export the city data into a .csv.\n",
    "* Display the DataFrame"
   ]
  },
  {
   "cell_type": "code",
   "execution_count": 185,
   "metadata": {},
   "outputs": [
    {
     "data": {
      "text/html": [
       "<div>\n",
       "<style scoped>\n",
       "    .dataframe tbody tr th:only-of-type {\n",
       "        vertical-align: middle;\n",
       "    }\n",
       "\n",
       "    .dataframe tbody tr th {\n",
       "        vertical-align: top;\n",
       "    }\n",
       "\n",
       "    .dataframe thead th {\n",
       "        text-align: right;\n",
       "    }\n",
       "</style>\n",
       "<table border=\"1\" class=\"dataframe\">\n",
       "  <thead>\n",
       "    <tr style=\"text-align: right;\">\n",
       "      <th></th>\n",
       "      <th>City</th>\n",
       "      <th>Cloudiness</th>\n",
       "      <th>Date</th>\n",
       "      <th>Humidity</th>\n",
       "      <th>Lat</th>\n",
       "      <th>Lon</th>\n",
       "      <th>Max Temp</th>\n",
       "      <th>Wind Speed</th>\n",
       "    </tr>\n",
       "  </thead>\n",
       "  <tbody>\n",
       "    <tr>\n",
       "      <th>0</th>\n",
       "      <td>tura</td>\n",
       "      <td>0</td>\n",
       "      <td>1562200566</td>\n",
       "      <td>36</td>\n",
       "      <td>64.27</td>\n",
       "      <td>100.22</td>\n",
       "      <td>20.67</td>\n",
       "      <td>3.08</td>\n",
       "    </tr>\n",
       "    <tr>\n",
       "      <th>1</th>\n",
       "      <td>hobart</td>\n",
       "      <td>20</td>\n",
       "      <td>1562200767</td>\n",
       "      <td>81</td>\n",
       "      <td>-42.88</td>\n",
       "      <td>147.33</td>\n",
       "      <td>6.67</td>\n",
       "      <td>3.10</td>\n",
       "    </tr>\n",
       "    <tr>\n",
       "      <th>2</th>\n",
       "      <td>husavik</td>\n",
       "      <td>56</td>\n",
       "      <td>1562200768</td>\n",
       "      <td>51</td>\n",
       "      <td>50.56</td>\n",
       "      <td>-96.99</td>\n",
       "      <td>19.44</td>\n",
       "      <td>1.79</td>\n",
       "    </tr>\n",
       "    <tr>\n",
       "      <th>3</th>\n",
       "      <td>albany</td>\n",
       "      <td>1</td>\n",
       "      <td>1562200529</td>\n",
       "      <td>44</td>\n",
       "      <td>42.65</td>\n",
       "      <td>-73.75</td>\n",
       "      <td>27.78</td>\n",
       "      <td>1.68</td>\n",
       "    </tr>\n",
       "    <tr>\n",
       "      <th>4</th>\n",
       "      <td>busselton</td>\n",
       "      <td>100</td>\n",
       "      <td>1562200771</td>\n",
       "      <td>38</td>\n",
       "      <td>-33.64</td>\n",
       "      <td>115.35</td>\n",
       "      <td>17.78</td>\n",
       "      <td>12.15</td>\n",
       "    </tr>\n",
       "    <tr>\n",
       "      <th>5</th>\n",
       "      <td>saint-philippe</td>\n",
       "      <td>1</td>\n",
       "      <td>1562200772</td>\n",
       "      <td>51</td>\n",
       "      <td>45.36</td>\n",
       "      <td>-73.48</td>\n",
       "      <td>28.89</td>\n",
       "      <td>3.10</td>\n",
       "    </tr>\n",
       "    <tr>\n",
       "      <th>6</th>\n",
       "      <td>ushuaia</td>\n",
       "      <td>0</td>\n",
       "      <td>1562200523</td>\n",
       "      <td>92</td>\n",
       "      <td>-54.81</td>\n",
       "      <td>-68.31</td>\n",
       "      <td>-4.00</td>\n",
       "      <td>5.70</td>\n",
       "    </tr>\n",
       "    <tr>\n",
       "      <th>7</th>\n",
       "      <td>iquitos</td>\n",
       "      <td>0</td>\n",
       "      <td>1562200623</td>\n",
       "      <td>83</td>\n",
       "      <td>-3.75</td>\n",
       "      <td>-73.25</td>\n",
       "      <td>27.00</td>\n",
       "      <td>0.97</td>\n",
       "    </tr>\n",
       "    <tr>\n",
       "      <th>8</th>\n",
       "      <td>puerto ayora</td>\n",
       "      <td>40</td>\n",
       "      <td>1562200776</td>\n",
       "      <td>73</td>\n",
       "      <td>-0.74</td>\n",
       "      <td>-90.35</td>\n",
       "      <td>23.00</td>\n",
       "      <td>7.20</td>\n",
       "    </tr>\n",
       "    <tr>\n",
       "      <th>9</th>\n",
       "      <td>alikovo</td>\n",
       "      <td>0</td>\n",
       "      <td>1562200777</td>\n",
       "      <td>93</td>\n",
       "      <td>55.74</td>\n",
       "      <td>46.75</td>\n",
       "      <td>13.00</td>\n",
       "      <td>3.00</td>\n",
       "    </tr>\n",
       "    <tr>\n",
       "      <th>10</th>\n",
       "      <td>kurchum</td>\n",
       "      <td>92</td>\n",
       "      <td>1562200778</td>\n",
       "      <td>65</td>\n",
       "      <td>48.57</td>\n",
       "      <td>83.65</td>\n",
       "      <td>16.27</td>\n",
       "      <td>1.74</td>\n",
       "    </tr>\n",
       "    <tr>\n",
       "      <th>11</th>\n",
       "      <td>kruisfontein</td>\n",
       "      <td>0</td>\n",
       "      <td>1562200780</td>\n",
       "      <td>83</td>\n",
       "      <td>-34.00</td>\n",
       "      <td>24.73</td>\n",
       "      <td>9.97</td>\n",
       "      <td>1.06</td>\n",
       "    </tr>\n",
       "    <tr>\n",
       "      <th>12</th>\n",
       "      <td>gondar</td>\n",
       "      <td>0</td>\n",
       "      <td>1562200781</td>\n",
       "      <td>77</td>\n",
       "      <td>41.82</td>\n",
       "      <td>-8.78</td>\n",
       "      <td>18.33</td>\n",
       "      <td>2.10</td>\n",
       "    </tr>\n",
       "  </tbody>\n",
       "</table>\n",
       "</div>"
      ],
      "text/plain": [
       "              City  Cloudiness        Date  Humidity    Lat     Lon  Max Temp  \\\n",
       "0             tura           0  1562200566        36  64.27  100.22     20.67   \n",
       "1           hobart          20  1562200767        81 -42.88  147.33      6.67   \n",
       "2          husavik          56  1562200768        51  50.56  -96.99     19.44   \n",
       "3           albany           1  1562200529        44  42.65  -73.75     27.78   \n",
       "4        busselton         100  1562200771        38 -33.64  115.35     17.78   \n",
       "5   saint-philippe           1  1562200772        51  45.36  -73.48     28.89   \n",
       "6          ushuaia           0  1562200523        92 -54.81  -68.31     -4.00   \n",
       "7          iquitos           0  1562200623        83  -3.75  -73.25     27.00   \n",
       "8     puerto ayora          40  1562200776        73  -0.74  -90.35     23.00   \n",
       "9          alikovo           0  1562200777        93  55.74   46.75     13.00   \n",
       "10         kurchum          92  1562200778        65  48.57   83.65     16.27   \n",
       "11    kruisfontein           0  1562200780        83 -34.00   24.73      9.97   \n",
       "12          gondar           0  1562200781        77  41.82   -8.78     18.33   \n",
       "\n",
       "    Wind Speed  \n",
       "0         3.08  \n",
       "1         3.10  \n",
       "2         1.79  \n",
       "3         1.68  \n",
       "4        12.15  \n",
       "5         3.10  \n",
       "6         5.70  \n",
       "7         0.97  \n",
       "8         7.20  \n",
       "9         3.00  \n",
       "10        1.74  \n",
       "11        1.06  \n",
       "12        2.10  "
      ]
     },
     "execution_count": 185,
     "metadata": {},
     "output_type": "execute_result"
    }
   ],
   "source": [
    "# Create a dataframe with all the attributes\n",
    "# lon = []\n",
    "# lat = []\n",
    "# hum = []\n",
    "# maxtemp = []\n",
    "# clouds = []\n",
    "# wind = []\n",
    "city_dict = {'City':new_city,'Cloudiness':clouds,'Date':dt,'Humidity':hum,'Lat':lat,'Lon':lon,'Max Temp':maxtemp,'Wind Speed':wind}\n",
    "city_df = pd.DataFrame(city_dict)\n",
    "city_df"
   ]
  },
  {
   "cell_type": "code",
   "execution_count": 188,
   "metadata": {},
   "outputs": [
    {
     "name": "stdout",
     "output_type": "stream",
     "text": [
      "{'long_name': '6а', 'short_name': '6а', 'types': ['street_number']}\n",
      "{'long_name': '48', 'short_name': '48', 'types': ['street_number']}\n",
      "{'long_name': 'Provincial Trunk Highway 9', 'short_name': 'MB-9', 'types': ['route']}\n",
      "{'long_name': '445', 'short_name': '445', 'types': ['street_number']}\n",
      "{'long_name': 'Geographe Bay Road', 'short_name': 'Geographe Bay Rd', 'types': ['route']}\n",
      "{'long_name': '18', 'short_name': '18', 'types': ['street_number']}\n",
      "{'long_name': '99', 'short_name': '99', 'types': ['street_number']}\n",
      "{'long_name': '679', 'short_name': '679', 'types': ['street_number']}\n",
      "{'long_name': 'Unnamed Road', 'short_name': 'Unnamed Road', 'types': ['route']}\n",
      "{'long_name': '7а', 'short_name': '7а', 'types': ['street_number']}\n",
      "{'long_name': 'Ulitsa Beregovaya', 'short_name': 'Ulitsa Beregovaya', 'types': ['route']}\n",
      "{'long_name': '52', 'short_name': '52', 'types': ['street_number']}\n",
      "{'long_name': 'Portugal', 'short_name': 'PT', 'types': ['country', 'political']}\n"
     ]
    }
   ],
   "source": [
    "# Get country code\n",
    "country=[]\n",
    "\n",
    "for index, row in city_df.iterrows():\n",
    "        \n",
    "        # get restaurant type from df\n",
    "        lat = row['Lat']\n",
    "        lon = row['Lon']\n",
    "        url = f\"https://maps.googleapis.com/maps/api/geocode/json?latlng={lat},{lon}&key={g_key}\"        \n",
    "        response= urllib.request.urlopen(url)\n",
    "        data = json.loads(response.read())\n",
    "#         print(data)\n",
    "        print(data['results'][0]['address_components'][0])\n",
    "        # Append corresponding values to their respective lists\n",
    "#         print(json_df['coord']['lon'])\n",
    "#         print(city)"
   ]
  },
  {
   "cell_type": "code",
   "execution_count": null,
   "metadata": {},
   "outputs": [],
   "source": []
  },
  {
   "cell_type": "markdown",
   "metadata": {},
   "source": [
    "### Plotting the Data\n",
    "* Use proper labeling of the plots using plot titles (including date of analysis) and axes labels.\n",
    "* Save the plotted figures as .pngs."
   ]
  },
  {
   "cell_type": "markdown",
   "metadata": {},
   "source": [
    "#### Latitude vs. Temperature Plot"
   ]
  },
  {
   "cell_type": "code",
   "execution_count": null,
   "metadata": {},
   "outputs": [],
   "source": []
  },
  {
   "cell_type": "markdown",
   "metadata": {},
   "source": [
    "#### Latitude vs. Humidity Plot"
   ]
  },
  {
   "cell_type": "code",
   "execution_count": null,
   "metadata": {},
   "outputs": [],
   "source": []
  },
  {
   "cell_type": "markdown",
   "metadata": {},
   "source": [
    "#### Latitude vs. Cloudiness Plot"
   ]
  },
  {
   "cell_type": "code",
   "execution_count": null,
   "metadata": {},
   "outputs": [],
   "source": []
  },
  {
   "cell_type": "markdown",
   "metadata": {},
   "source": [
    "#### Latitude vs. Wind Speed Plot"
   ]
  },
  {
   "cell_type": "code",
   "execution_count": null,
   "metadata": {},
   "outputs": [],
   "source": []
  },
  {
   "cell_type": "code",
   "execution_count": null,
   "metadata": {},
   "outputs": [],
   "source": []
  }
 ],
 "metadata": {
  "anaconda-cloud": {},
  "kernel_info": {
   "name": "python3"
  },
  "kernelspec": {
   "display_name": "Python 3",
   "language": "python",
   "name": "python3"
  },
  "language_info": {
   "codemirror_mode": {
    "name": "ipython",
    "version": 3
   },
   "file_extension": ".py",
   "mimetype": "text/x-python",
   "name": "python",
   "nbconvert_exporter": "python",
   "pygments_lexer": "ipython3",
   "version": "3.7.3"
  },
  "nteract": {
   "version": "0.12.3"
  }
 },
 "nbformat": 4,
 "nbformat_minor": 2
}
